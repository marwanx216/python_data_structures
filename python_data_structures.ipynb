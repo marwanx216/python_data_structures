{
 "cells": [
  {
   "cell_type": "code",
   "execution_count": 1,
   "id": "353e5c9a",
   "metadata": {},
   "outputs": [
    {
     "name": "stdout",
     "output_type": "stream",
     "text": [
      "36\n"
     ]
    }
   ],
   "source": [
    "# Question 1 \n",
    "def list_numbers_multiplier(my_list):\n",
    " result = 1\n",
    " for i in range(len(my_list)):\n",
    "    result = result * my_list[i]\n",
    " return result\n",
    "# The \"list_numbers_multiplier\" function multiplies all numbers in a list\n",
    "\n",
    "my_list = [2, 3, 6]\n",
    "print(list_numbers_multiplier((my_list)))"
   ]
  },
  {
   "cell_type": "code",
   "execution_count": 2,
   "id": "de5eb192",
   "metadata": {},
   "outputs": [
    {
     "name": "stdout",
     "output_type": "stream",
     "text": [
      "[(2, 1), (1, 2), (2, 3), (4, 4), (2, 5)]\n"
     ]
    }
   ],
   "source": [
    "# Question 2\n",
    "\n",
    "# take second element for sort\n",
    "def takeSecond(tup):\n",
    " return tup[-1]\n",
    "\n",
    "# Random list\n",
    "my_list = [(2, 5), (1, 2), (4, 4), (2, 3), (2, 1)]\n",
    "\n",
    "# Sort the list with key function\n",
    "my_list.sort(key = takeSecond)\n",
    "\n",
    "# Print list\n",
    "print(my_list)\n"
   ]
  },
  {
   "cell_type": "code",
   "execution_count": 2,
   "id": "35c20f4f",
   "metadata": {},
   "outputs": [
    {
     "name": "stdout",
     "output_type": "stream",
     "text": [
      "{'a': 400, 'b': 400, 'c': 300, 'd': 400}\n"
     ]
    }
   ],
   "source": [
    "# Question 3\n",
    "\n",
    "# Two dictionaries d1 and d2\n",
    "d1 = {'a': 100, 'b': 200, 'c':300}\n",
    "d2 = {'a': 300, 'b': 200, 'd':400}\n",
    "\n",
    "# Checking the common keys between d1 and d2\n",
    "for i in d1:\n",
    "     if i in d2:\n",
    "        d2[i] = d1[i] + d2[i]\n",
    "else:\n",
    "    # The pass satetment is to avoid getting an error if there is no common keys\n",
    "    pass\n",
    "\n",
    "\n",
    "result = d1 | d2\n",
    "print(result)\n"
   ]
  },
  {
   "cell_type": "code",
   "execution_count": 3,
   "id": "6ff7af77",
   "metadata": {},
   "outputs": [
    {
     "name": "stdout",
     "output_type": "stream",
     "text": [
      "{1: 1, 2: 4, 3: 9, 4: 16, 5: 25, 6: 36, 7: 49, 8: 64}\n"
     ]
    }
   ],
   "source": [
    "# Question 4\n",
    "\n",
    "n = 8\n",
    "# Empty Dictionary\n",
    "my_dictionary = {}\n",
    "\n",
    "# There are n items in the dictionary  \n",
    "for i in range(1, n+1):\n",
    " my_dictionary[i] = i * i\n",
    "\n",
    "print(my_dictionary)"
   ]
  },
  {
   "cell_type": "code",
   "execution_count": 4,
   "id": "96b9e522",
   "metadata": {},
   "outputs": [
    {
     "name": "stdout",
     "output_type": "stream",
     "text": [
      "[('item3', '24.5'), ('item2', '15.10'), ('item1', '12.20')]\n"
     ]
    }
   ],
   "source": [
    "# Question 5 \n",
    "\n",
    "# take second element for sort\n",
    "def take_float(tup):\n",
    "    return tup[-1]\n",
    "\n",
    "# Example list\n",
    "my_list =  [('item1', '12.20'), ('item2', '15.10'), ('item3', '24.5')]\n",
    "\n",
    "# Sort the list with key function\n",
    "# Sort the tuple by its float element\n",
    "my_list.sort(key=take_float, reverse=True)\n",
    "\n",
    "print(my_list)"
   ]
  }
 ],
 "metadata": {
  "kernelspec": {
   "display_name": "Python 3 (ipykernel)",
   "language": "python",
   "name": "python3"
  },
  "language_info": {
   "codemirror_mode": {
    "name": "ipython",
    "version": 3
   },
   "file_extension": ".py",
   "mimetype": "text/x-python",
   "name": "python",
   "nbconvert_exporter": "python",
   "pygments_lexer": "ipython3",
   "version": "3.9.12"
  }
 },
 "nbformat": 4,
 "nbformat_minor": 5
}
